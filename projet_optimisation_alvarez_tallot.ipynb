{
 "metadata": {
  "language_info": {
   "codemirror_mode": {
    "name": "ipython",
    "version": 3
   },
   "file_extension": ".py",
   "mimetype": "text/x-python",
   "name": "python",
   "nbconvert_exporter": "python",
   "pygments_lexer": "ipython3",
   "version": "3.8.5-final"
  },
  "orig_nbformat": 2,
  "kernelspec": {
   "name": "python385jvsc74a57bd04d642e39cd6ab4043b725cfae5fa8c34d89fcf0897ff7aa653494a641a215366",
   "display_name": "Python 3.8.5 64-bit"
  }
 },
 "nbformat": 4,
 "nbformat_minor": 2,
 "cells": [
  {
   "source": [
    "# Projet d'Optimisation - Rangement d'un tuyau de jardin"
   ],
   "cell_type": "markdown",
   "metadata": {}
  },
  {
   "source": [
    "# Enol Alvarez & Louis-Justin Tallot"
   ],
   "cell_type": "markdown",
   "metadata": {}
  },
  {
   "source": [
    "## 1. Etude du problème d'optimisation"
   ],
   "cell_type": "markdown",
   "metadata": {}
  },
  {
   "source": [
    "#### Q1) Interpréter le coût (4). Que cherche-t-on à minimiser ?"
   ],
   "cell_type": "markdown",
   "metadata": {}
  },
  {
   "source": [
    "On cherche $min \\left(K\\left(x_N - \\dfrac{L}{2}\\right)^2 + \\text{d}x^2 \\sum \\limits _{i=0}^N y_i^2   \\right)$\n",
    "\n",
    "-> distance à l'horizontale + distance au parterre de fleurs"
   ],
   "cell_type": "markdown",
   "metadata": {}
  },
  {
   "source": [
    "#### Q2) Pourquoi n'a-t-on pas plutôt imposé la contrainte $x_N = L/2$ ?"
   ],
   "cell_type": "markdown",
   "metadata": {}
  },
  {
   "cell_type": "code",
   "execution_count": null,
   "metadata": {},
   "outputs": [],
   "source": []
  },
  {
   "source": [
    "#### Q3) Interpréter géométriquement la condition de courbure (5)"
   ],
   "cell_type": "markdown",
   "metadata": {}
  },
  {
   "source": [
    "On impose une courbure maximale avec : \n",
    "\n",
    "$$\n",
    "    (x_{i+1} - 2x_i + x_{i-1})^2 + (y_{i+1} - 2y_i + y_{i-1})^2 \\leq \\text{d}x^4 \\gamma^2\n",
    "$$\n",
    "\n",
    "En écrivant : "
   ],
   "cell_type": "markdown",
   "metadata": {}
  },
  {
   "source": [
    "#### Q4) Formuler le problème d'optimisation à résoudre sous la forme \n",
    "\n",
    "$$ \\min \\limits _{c_{eq}(z)=0,\\; c_{ineq}(z)=0} f(z)$$"
   ],
   "cell_type": "markdown",
   "metadata": {}
  },
  {
   "source": [
    "On pose : \n",
    "\n",
    "Variables de décision au nombre $n=2N+2$ : \n",
    "$$z = (x_0, \\dots, x_N , y_0, \\dots, y_N)$$  \n",
    "\n",
    "\n",
    "Contraintes : \n",
    "\n",
    " $$\n",
    "\\begin{align} \n",
    "\n",
    "c_{eq}(z) &= c_{eq}(x_0, \\dots, x_N , y_0, \\dots, y_N) \\\\\n",
    "          &= (x_0, y_0, y_N , (x_1-x_0)^2 + (y_1-y_0)^2-\\text{d}x^2, \\dots, (x_N-x_{N-1})^2 + (y_N-y_{N-1})^2-\\text{d}x^2)\n",
    "\n",
    "\\end{align}\n",
    "\n",
    " $$\n",
    "\n",
    "\n",
    " $$\n",
    "\\begin{align} \n",
    "\n",
    "c_{ineq}(z) &= c_{ineq}(x_0, \\dots, x_N , y_0, \\dots, y_N) \\\\\n",
    "          &= (x_0-x_1, \\dots, x_{N-1}-x_N, \n",
    "          (x_2-2x_1+x_0)^2+(y_2-2y_1+y_0)^2- \\text{d} x ^4 \\gamma ^2, \\dots, \n",
    "        (x_N-2x_{N-1}+x_{N-2})^2+(y_N-2y_{N-1}+y_{N-2})^2- \\text{d} x ^4 \\gamma ^2)\n",
    "\n",
    "\\end{align}\n",
    " $$\n",
    "\n",
    "Fonction objectif à minimiser : \n",
    "\n",
    "$$\n",
    "\\begin{align}\n",
    "  f(z) &= f(x_0, \\dots, x_N , y_0, \\dots, y_N) \\\\\n",
    "       &= K \\left(( _N - \\dfrac{L}{2}\\right)^2 + \\text{d}x^2 \\sum_{i=0}^N y_i^2 \n",
    "\n",
    "\\end{align}\n",
    "$$\n",
    "\n"
   ],
   "cell_type": "markdown",
   "metadata": {}
  },
  {
   "source": [
    "## 2. Etude et résolution numériques"
   ],
   "cell_type": "markdown",
   "metadata": {}
  },
  {
   "source": [
    "import casadi\n",
    "import numpy as np\n",
    "import matplotlib\n",
    "import matplotlib.pyplot as plt\n",
    "from IPython.utils import io"
   ],
   "cell_type": "code",
   "metadata": {},
   "execution_count": null,
   "outputs": []
  },
  {
   "cell_type": "code",
   "execution_count": null,
   "metadata": {},
   "outputs": [],
   "source": [
    "# nos données\n",
    "L = 10\n",
    "N = 60\n",
    "K = 10\n",
    "gamma = 3\n",
    "\n",
    "# on en déduit alors\n",
    "dx = L/N"
   ]
  },
  {
   "cell_type": "code",
   "execution_count": null,
   "metadata": {},
   "outputs": [],
   "source": [
    "def conditions_initiales(L=10, N=60):\n",
    "    dx = L/N   \n",
    "    # Condition initiale - triangle rectangle isocèle\n",
    "    # les y d'abord\n",
    "    y = []\n",
    "    res = 0\n",
    "    while res <= L/(2*np.sqrt(2)):\n",
    "        y.append(res)\n",
    "        res += dx / (np.sqrt(2))\n",
    "\n",
    "    res = L/(2*np.sqrt(2)) - dx/(2*np.sqrt(2))\n",
    "    while res >= 0:\n",
    "        y.append(res)\n",
    "        res -= dx/np.sqrt(2)\n",
    "\n",
    "    if len(y)<N+1:\n",
    "        y.append(res)\n",
    "    x = []\n",
    "    res = 0\n",
    "\n",
    "    while res <= L/(np.sqrt(2)):\n",
    "        x.append(res)\n",
    "        res += dx/np.sqrt(2)\n",
    "\n",
    "    if not np.isclose(x[-1], L/(np.sqrt(2))):\n",
    "        x.append(L/(np.sqrt(2)))\n",
    "\n",
    "    z0_triangle_haut = np.array(y+x)\n",
    "    z0_triangle_bas = np.array(list(-1.*np.array(y))+x)\n",
    "\n",
    "    return z0_triangle_haut, z0_triangle_bas"
   ]
  },
  {
   "source": [
    "#### Q5) Quelles méthodes de résolution peuvent être envisagées pour ce problème ?"
   ],
   "cell_type": "markdown",
   "metadata": {}
  },
  {
   "cell_type": "code",
   "execution_count": null,
   "metadata": {},
   "outputs": [],
   "source": []
  },
  {
   "source": [
    "#### Q6) Développer un algorithme de résolution pour les valeurs numériques suivantes : $L = 10$ ; $N = 60$ ; $K= 10$ et $\\gamma = 3$"
   ],
   "cell_type": "markdown",
   "metadata": {}
  },
  {
   "cell_type": "code",
   "execution_count": null,
   "metadata": {},
   "outputs": [],
   "source": [
    "# Condition initiale - triangle rectangle isocèle\n",
    "# les y d'abord\n",
    "y = []\n",
    "res = 0\n",
    "while res <= L/(2*np.sqrt(2)):\n",
    "    y.append(res)\n",
    "    res += dx / (np.sqrt(2))\n",
    "\n",
    "res = L/(2*np.sqrt(2)) - dx/(2*np.sqrt(2))\n",
    "while res >= 0:\n",
    "    y.append(res)\n",
    "    res -= dx/np.sqrt(2)\n",
    "\n",
    "# puis les x\n",
    "\n",
    "x = []\n",
    "res = 0\n",
    "\n",
    "while res <= L/(np.sqrt(2)):\n",
    "    x.append(res)\n",
    "    res += dx/np.sqrt(2)\n",
    "x.append(L/(np.sqrt(2)))\n",
    "\n",
    "z0 = np.array(y+x)"
   ]
  },
  {
   "cell_type": "code",
   "execution_count": null,
   "metadata": {},
   "outputs": [],
   "source": [
    "X = [z0[i] for i in range(N+1, 2*N+2)]\n",
    "Y = [z0[i] for i in range(0, N+1)]\n",
    "plt.plot(X, Y, marker='.')\n",
    "plt.suptitle(\"Configuration initiale du tuyau donnée à CasADi\")\n",
    "plt.axis(\"equal\")\n",
    "plt.show()"
   ]
  },
  {
   "cell_type": "code",
   "execution_count": null,
   "metadata": {},
   "outputs": [],
   "source": [
    "def optim_simple(L=10, N=60, K=10, gamma=3, z0=None, plot=True, verbose=False, must_return=False):\n",
    "    dx = L/N\n",
    "\n",
    "    if not z0:\n",
    "        z0 = conditions_initiales(L, N)[0]\n",
    "\n",
    "    # on lance une optimisation avec CasADi\n",
    "    opti = casadi.Opti()\n",
    "    # nombre de variables : \n",
    "    n = 2 * N + 2\n",
    "    # notre variable d'optimisation dans CasADi, avec nos notations : \n",
    "    z = opti.variable(n)\n",
    "    # notre fonction à minimiser : \n",
    "    f = 0\n",
    "    # on met les y d'abord : \n",
    "    for i in range(N+1):\n",
    "        f += dx**2 *z[i]**2\n",
    "\n",
    "    f += K * (z[-1] - L/2)**2\n",
    "\n",
    "    # on veut minimiser\n",
    "    opti.minimize(f)\n",
    "    # on rajoute les contraintes égalité\n",
    "    opti.subject_to(z[0] == 0) # y_0\n",
    "    opti.subject_to(z[N] == 0) # y_N\n",
    "    opti.subject_to(z[N+1] == 0) # x_0\n",
    "\n",
    "    for i in range(N):\n",
    "        opti.subject_to((z[N+1 + i+1]-z[N+1 + i])**2 + (z[i+1]-z[i])**2 - dx**2 == 0)\n",
    "\n",
    "    # on rajoute les contraintes inégalité\n",
    "    for i in range(N):\n",
    "        opti.subject_to(z[N+1 + i] - z[N+1 + i+1] <= 0)\n",
    "\n",
    "    for i in range(N-1):\n",
    "        opti.subject_to((z[N+1 + i+2] - 2*z[N+1 + i+1] + z[N+1 + i])**2 + (z[i+2] - 2*z[i+1] + z[i])**2 - dx**4 * gamma**2 <= 0)    \n",
    "\n",
    "\n",
    "    # CI\n",
    "    opti.set_initial(z,z0)\n",
    "\n",
    "    # on résoud\n",
    "    opti.solver('ipopt')\n",
    "\n",
    "    if verbose:\n",
    "        sol = opti.solve()\n",
    "    else:\n",
    "        with io.capture_output() as captured:\n",
    "            sol = opti.solve()\n",
    "\n",
    "    result = sol.value(z)\n",
    "\n",
    "    if plot:\n",
    "        plt.figure()\n",
    "        X = [result[i] for i in range(N+1, 2*N+2)]\n",
    "        Y = [result[i] for i in range(0, N+1)]\n",
    "        plt.plot(X, Y, marker='.')\n",
    "        plt.axis('equal')\n",
    "        plt.suptitle(\"Configuration optimale du tuyau trouvée par CasADi\")\n",
    "        plt.show()\n",
    "\n",
    "    if must_return:\n",
    "        return result\n"
   ]
  },
  {
   "cell_type": "code",
   "execution_count": null,
   "metadata": {},
   "outputs": [],
   "source": [
    "optim_simple()"
   ]
  },
  {
   "cell_type": "code",
   "execution_count": null,
   "metadata": {},
   "outputs": [],
   "source": []
  },
  {
   "source": [
    "## 3. Modèle global"
   ],
   "cell_type": "markdown",
   "metadata": {}
  },
  {
   "cell_type": "code",
   "execution_count": null,
   "metadata": {},
   "outputs": [],
   "source": []
  },
  {
   "cell_type": "code",
   "execution_count": null,
   "metadata": {},
   "outputs": [],
   "source": [
    "x_P = 2\n",
    "y_P = 1.3\n",
    "R = 1"
   ]
  },
  {
   "cell_type": "code",
   "execution_count": null,
   "metadata": {},
   "outputs": [],
   "source": [
    "\n",
    "def optim_avec_parterre(L=10, N=60, K=10, gamma=3, x_P=2, y_P=0.2, R=0.3, z0=None, plot=True, verbose=False, must_return=False):\n",
    "    dx = L/N\n",
    "    if not z0:\n",
    "        z0 = conditions_initiales(L, N)[0]\n",
    "\n",
    "    # on lance une optimisation avec CasADi\n",
    "    opti = casadi.Opti()\n",
    "    # nombre de variables : \n",
    "    n = 2 * N + 2\n",
    "    # notre variable d'optimisation dans CasADi, avec nos notations : \n",
    "    z = opti.variable(n)\n",
    "    # notre fonction à minimiser : \n",
    "    f = 0\n",
    "    # on met les y d'abord : \n",
    "    for i in range(N+1):\n",
    "        f += dx**2 *z[i]**2\n",
    "\n",
    "    f += K * (z[-1] - L/2)**2\n",
    "\n",
    "    # on veut minimiser\n",
    "    opti.minimize(f)\n",
    "    # on rajoute les contraintes égalité\n",
    "    opti.subject_to(z[0] == 0) # y_0\n",
    "    opti.subject_to(z[N] == 0) # y_N\n",
    "    opti.subject_to(z[N+1] == 0) # x_0\n",
    "\n",
    "    for i in range(N):\n",
    "        opti.subject_to((z[N+1 + i+1]-z[N+1 + i])**2 + (z[i+1]-z[i])**2 - dx**2 == 0)\n",
    "\n",
    "    # on rajoute les contraintes inégalité\n",
    "    for i in range(N):\n",
    "        opti.subject_to(z[N+1 + i] - z[N+1 + i+1] <= 0)\n",
    "\n",
    "    for i in range(N-1):\n",
    "        opti.subject_to((z[N+1 + i+2] - 2*z[N+1 + i+1] + z[N+1 + i])**2 + (z[i+2] - 2*z[i+1] + z[i])**2 - dx**4 * gamma**2 <= 0)    \n",
    "\n",
    "    # on rajoute le parterre de fleurs\n",
    "\n",
    "    for i in range(N+1):\n",
    "        opti.subject_to(R**2 - (x_P-z[N+1 +i])**2 - (y_P-z[i])**2  <= 0)\n",
    "    # CI\n",
    "    opti.set_initial(z,z0)\n",
    "\n",
    "    # on résoud\n",
    "    opti.solver('ipopt')\n",
    "    if verbose:\n",
    "        sol = opti.solve()\n",
    "    else:\n",
    "        with io.capture_output() as captured:\n",
    "            sol = opti.solve()\n",
    "    # print(sol.value(z))\n",
    "\n",
    "    result = sol.value(z)\n",
    "\n",
    "    if plot:\n",
    "        plt.figure()\n",
    "        # les couleurs pour que ça soit joli\n",
    "        couleur_tuyau = \"orange\"\n",
    "        # couleur_parterre = matplotlib.cm.gist_earth(0.6)\n",
    "        couleur_parterre = matplotlib.cm.PiYG(0.999)\n",
    "\n",
    "\n",
    "        X = [result[i] for i in range(N+1, 2*N+2)]\n",
    "        Y = [result[i] for i in range(0, N+1)]\n",
    "        plt.plot(X, Y, marker='.', color=couleur_tuyau)\n",
    "        plt.axis('equal')\n",
    "        plt.suptitle(\"Configuration optimale du tuyau trouvée par CasADi\")\n",
    "\n",
    "        parterre_fleurs = plt.Circle((x_P, y_P), R, color=couleur_parterre)\n",
    "\n",
    "\n",
    "        legende_tuyau = plt.Line2D(range(1), range(1),\n",
    "                                marker=\"o\", color=couleur_tuyau)\n",
    "\n",
    "\n",
    "        # plt.legend(handles=[matplotlib.patches.Patch(color=couleur_tuyau, label=\"Tuyau\")])\n",
    "\n",
    "        line1 = plt.Line2D([], [], color=couleur_tuyau, \n",
    "                        marker='o',markersize=5, markerfacecolor=couleur_tuyau)\n",
    "        line2 = plt.Line2D([], [], color=\"white\", \n",
    "                        marker='o',markersize=20,markerfacecolor=couleur_parterre)\n",
    "        plt.legend((line1,line2),('Tuyau','Parterre de fleurs à éviter'))#,numpoints=1, loc=1)\n",
    "        plt.gca().add_artist(parterre_fleurs)\n",
    "        plt.show()\n",
    "\n",
    "    if must_return:\n",
    "        return result"
   ]
  },
  {
   "cell_type": "code",
   "execution_count": null,
   "metadata": {},
   "outputs": [],
   "source": [
    "optim_simple()\n",
    "optim_simple(gamma=10, N=1000)\n",
    "optim_simple(gamma=1)\n",
    "optim_simple(gamma=0.1)"
   ]
  },
  {
   "cell_type": "code",
   "execution_count": null,
   "metadata": {},
   "outputs": [],
   "source": [
    "optim_simple(K=10, z0=np.array([0]*(N+1)+[i*dx for i in range(N+1)]))"
   ]
  },
  {
   "cell_type": "code",
   "execution_count": null,
   "metadata": {},
   "outputs": [],
   "source": [
    "optim_avec_parterre(y_P=1.3,R=1.3)"
   ]
  },
  {
   "cell_type": "code",
   "execution_count": null,
   "metadata": {},
   "outputs": [],
   "source": [
    "def optim_avec_parterre_CI_aleatoires(L=10, N=60, K1=10, K2=10, gamma=3, x_P=2, y_P=0.2, R=0.3, z0=None, plot=True, verbose=False, must_return=False, plot_CI=False):\n",
    "    dx = L/N\n",
    "\n",
    "    if not z0:\n",
    "        z0 = conditions_initiales(L, N)[0]\n",
    "\n",
    "    if plot_CI:\n",
    "        # on dessine la CI\n",
    "        X = [z0[i] for i in range(N+1, 2*N+2)]\n",
    "        Y = [z0[i] for i in range(0, N+1)]\n",
    "        plt.plot(X, Y, marker='.')\n",
    "        plt.suptitle(\"Configuration initiale du tuyau donnée à CasADi\")\n",
    "        plt.axis(\"equal\")\n",
    "        plt.show()\n",
    "\n",
    "    # on lance une optimisation avec CasADi\n",
    "    opti = casadi.Opti()\n",
    "    # nombre de variables : \n",
    "    n = 2 * N + 2\n",
    "    # notre variable d'optimisation dans CasADi, avec nos notations : \n",
    "    z = opti.variable(n)\n",
    "    # notre fonction à minimiser : \n",
    "    f = 0\n",
    "    # on met les y d'abord : \n",
    "    for i in range(N+1):\n",
    "        f += dx**2 *z[i]**2\n",
    "\n",
    "    f += K1 * (z[-1] - L/2)**2\n",
    "    f += K2 * z[N]**2\n",
    "\n",
    "    # on veut minimiser\n",
    "    opti.minimize(f)\n",
    "    # on rajoute les contraintes égalité\n",
    "    opti.subject_to(z[0] == 0) # y_0\n",
    "    opti.subject_to(z[N+1] == 0) # x_0\n",
    "\n",
    "    for i in range(N):\n",
    "        opti.subject_to((z[N+1 + i+1]-z[N+1 + i])**2 + (z[i+1]-z[i])**2 - dx**2 == 0)\n",
    "\n",
    "    # on rajoute les contraintes inégalité\n",
    "    for i in range(N):\n",
    "        opti.subject_to(z[N+1 + i] - z[N+1 + i+1] <= 0)\n",
    "\n",
    "    for i in range(N-1):\n",
    "        opti.subject_to((z[N+1 + i+2] - 2*z[N+1 + i+1] + z[N+1 + i])**2 + (z[i+2] - 2*z[i+1] + z[i])**2 - dx**4 * gamma**2 <= 0)    \n",
    "\n",
    "    # on rajoute le parterre de fleurs\n",
    "\n",
    "    for i in range(N+1):\n",
    "        opti.subject_to(R**2 - (x_P-z[N+1 +i])**2 - (y_P-z[i])**2  <= 0)\n",
    "    # CI\n",
    "    opti.set_initial(z,z0)\n",
    "\n",
    "    # on résoud\n",
    "    opti.solver('ipopt')\n",
    "    if verbose:\n",
    "        sol = opti.solve()\n",
    "    else:\n",
    "        with io.capture_output() as captured:\n",
    "            sol = opti.solve()\n",
    "    # print(sol.value(z))\n",
    "\n",
    "    result = sol.value(z)\n",
    "\n",
    "    if plot:\n",
    "        plt.figure()\n",
    "        # les couleurs pour que ça soit joli\n",
    "        couleur_tuyau = \"orange\"\n",
    "        # couleur_parterre = matplotlib.cm.gist_earth(0.6)\n",
    "        couleur_parterre = matplotlib.cm.PiYG(0.999)\n",
    "\n",
    "\n",
    "        X = [result[i] for i in range(N+1, 2*N+2)]\n",
    "        Y = [result[i] for i in range(0, N+1)]\n",
    "        plt.plot(X, Y, marker='.', color=couleur_tuyau)\n",
    "        plt.axis('equal')\n",
    "        plt.suptitle(\"Configuration optimale du tuyau trouvée par CasADi\")\n",
    "\n",
    "        parterre_fleurs = plt.Circle((x_P, y_P), R, color=couleur_parterre)\n",
    "\n",
    "\n",
    "        legende_tuyau = plt.Line2D(range(1), range(1),\n",
    "                                marker=\"o\", color=couleur_tuyau)\n",
    "\n",
    "\n",
    "        # plt.legend(handles=[matplotlib.patches.Patch(color=couleur_tuyau, label=\"Tuyau\")])\n",
    "\n",
    "        line1 = plt.Line2D([], [], color=couleur_tuyau, \n",
    "                        marker='o',markersize=5, markerfacecolor=couleur_tuyau)\n",
    "        line2 = plt.Line2D([], [], color=\"white\", \n",
    "                        marker='o',markersize=20,markerfacecolor=couleur_parterre)\n",
    "        plt.legend((line1,line2),('Tuyau','Parterre de fleurs à éviter'))#,numpoints=1, loc=1)\n",
    "        plt.gca().add_artist(parterre_fleurs)\n",
    "        plt.show()\n",
    "\n",
    "\n",
    "    if must_return:\n",
    "        return result"
   ]
  },
  {
   "cell_type": "code",
   "execution_count": null,
   "metadata": {},
   "outputs": [],
   "source": [
    "# optim_avec_parterre_CI_aleatoires(K1=1000,y_P=1.3,R=1.3, N=100)\n",
    "optim_avec_parterre_CI_aleatoires(K1=1000,y_P=1.5,R=1.3, N=100)"
   ]
  },
  {
   "cell_type": "code",
   "execution_count": null,
   "metadata": {},
   "outputs": [],
   "source": [
    "# %matplotlib inline"
   ]
  },
  {
   "cell_type": "code",
   "execution_count": null,
   "metadata": {},
   "outputs": [],
   "source": []
  }
 ]
}