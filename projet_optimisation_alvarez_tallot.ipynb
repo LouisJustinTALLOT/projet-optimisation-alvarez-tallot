{
 "metadata": {
  "language_info": {
   "codemirror_mode": {
    "name": "ipython",
    "version": 3
   },
   "file_extension": ".py",
   "mimetype": "text/x-python",
   "name": "python",
   "nbconvert_exporter": "python",
   "pygments_lexer": "ipython3",
   "version": 3
  },
  "orig_nbformat": 2
 },
 "nbformat": 4,
 "nbformat_minor": 2,
 "cells": [
  {
   "source": [
    "# Projet d'Optimisation - Rangement d'un tuyau de jardin"
   ],
   "cell_type": "markdown",
   "metadata": {}
  },
  {
   "source": [
    "# Enol Alvarez & Louis-Justin Tallot"
   ],
   "cell_type": "markdown",
   "metadata": {}
  },
  {
   "source": [
    "## 1. Etude du problème d'optimisation"
   ],
   "cell_type": "markdown",
   "metadata": {}
  },
  {
   "source": [
    "#### Q1) Interpréter le coût (4). Que cherche-t-on à minimiser ?"
   ],
   "cell_type": "markdown",
   "metadata": {}
  },
  {
   "source": [
    "On cherche $min \\left(K\\left(x_n - \\dfrac{L}{2}\\right)^2 + \\text{d}x^2 \\sum \\limits _{i=0}^N y_i^2   \\right)$\n",
    "\n",
    "-> distance à l'horizontale + distance au parterre de fleurs"
   ],
   "cell_type": "markdown",
   "metadata": {}
  },
  {
   "source": [
    "#### Q2) Pourquoi n'a-t-on pas plutôt imposé la contrainte $x_N = L/2$ ?"
   ],
   "cell_type": "markdown",
   "metadata": {}
  },
  {
   "cell_type": "code",
   "execution_count": null,
   "metadata": {},
   "outputs": [],
   "source": []
  }
 ]
}