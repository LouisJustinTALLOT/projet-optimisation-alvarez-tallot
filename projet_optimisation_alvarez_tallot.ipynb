{
 "metadata": {
  "language_info": {
   "codemirror_mode": {
    "name": "ipython",
    "version": 3
   },
   "file_extension": ".py",
   "mimetype": "text/x-python",
   "name": "python",
   "nbconvert_exporter": "python",
   "pygments_lexer": "ipython3",
   "version": "3.8.5-final"
  },
  "orig_nbformat": 2,
  "kernelspec": {
   "name": "python385jvsc74a57bd04d642e39cd6ab4043b725cfae5fa8c34d89fcf0897ff7aa653494a641a215366",
   "display_name": "Python 3.8.5 64-bit (conda)"
  }
 },
 "nbformat": 4,
 "nbformat_minor": 2,
 "cells": [
  {
   "source": [
    "# Projet d'Optimisation - Rangement d'un tuyau de jardin"
   ],
   "cell_type": "markdown",
   "metadata": {}
  },
  {
   "source": [
    "# Enol Alvarez & Louis-Justin Tallot"
   ],
   "cell_type": "markdown",
   "metadata": {}
  },
  {
   "source": [
    "## 1. Etude du problème d'optimisation"
   ],
   "cell_type": "markdown",
   "metadata": {}
  },
  {
   "source": [
    "#### Q1) Interpréter le coût (4). Que cherche-t-on à minimiser ?"
   ],
   "cell_type": "markdown",
   "metadata": {}
  },
  {
   "source": [
    "On cherche $min \\left(K\\left(x_N - \\dfrac{L}{2}\\right)^2 + \\text{d}x^2 \\sum \\limits _{i=0}^N y_i^2   \\right)$\n",
    "\n",
    "-> distance à l'horizontale + distance au parterre de fleurs"
   ],
   "cell_type": "markdown",
   "metadata": {}
  },
  {
   "source": [
    "#### Q2) Pourquoi n'a-t-on pas plutôt imposé la contrainte $x_N = L/2$ ?"
   ],
   "cell_type": "markdown",
   "metadata": {}
  },
  {
   "cell_type": "code",
   "execution_count": null,
   "metadata": {},
   "outputs": [],
   "source": []
  },
  {
   "source": [
    "#### Q3) Interpréter géométriquement la condition de courbure (5)"
   ],
   "cell_type": "markdown",
   "metadata": {}
  },
  {
   "source": [
    "On impose une courbure maximale avec : \n",
    "\n",
    "$$\n",
    "    (x_{i+1} - 2x_i + x_{i-1})^2 + (y_{i+1} - 2y_i + y_{i-1})^2 \\leq \\text{d}x^4 \\gamma^2\n",
    "$$\n",
    "\n",
    "En écrivant : "
   ],
   "cell_type": "markdown",
   "metadata": {}
  },
  {
   "source": [
    "#### Q4) Formuler le problème d'optimisation à résoudre sous la forme \n",
    "\n",
    "$$ \\min \\limits _{c_{eq}(z)=0,\\; c_{ineq}(z)=0} f(z)$$"
   ],
   "cell_type": "markdown",
   "metadata": {}
  },
  {
   "source": [
    "On pose : \n",
    "\n",
    "Variables de décision au nombre $n =  2N+2$ : \n",
    "$$z = (x_0, \\dots, x_N , y_0, \\dots, y_N)$$  \n",
    "\n",
    "\n",
    "Contraintes : \n",
    "\n",
    " $$\n",
    "\\begin{align} \n",
    "\n",
    "c_{eq}(z) &= c_{eq}(x_0, \\dots, x_N , y_0, \\dots, y_N) \\\\\n",
    "          &= (x_0, y_0, y_N , (x_1-x_0)^2 + (y_1-y_0)^2-\\text{d}x^2, \\dots, (x_N-x_{N-1})^2 + (y_N-y_{N-1})^2-\\text{d}x^2)\n",
    "\n",
    "\\end{align}\n",
    "\n",
    " $$\n",
    "\n",
    "\n",
    " $$\n",
    "\\begin{align} \n",
    "\n",
    "c_{ineq}(z) &= c_{ineq}(x_0, \\dots, x_N , y_0, \\dots, y_N) \\\\\n",
    "          &= (x_0-x_1, \\dots, x_{N-1}-x_N, \n",
    "          (x_2-2x_1+x_0)^2+(y_2-2y_1+y_0)^2- \\text{d} x ^4 \\gamma ^2, \\dots, \n",
    "        (x_N-2x_{N-1}+x_{N-2})^2+(y_N-2y_{N-1}+y_{N-2})^2- \\text{d} x ^4 \\gamma ^2)\n",
    "\n",
    "\\end{align}\n",
    " $$\n",
    "\n",
    "Fonction objectif à minimiser : \n",
    "\n",
    "$$\n",
    "\\begin{align}\n",
    "  f(z) &= f(x_0, \\dots, x_N , y_0, \\dots, y_N) \\\\\n",
    "       &= K \\left( x_N - \\dfrac{L}{2}\\right)^2 + \\text{d}x^2 \\sum_{i=0}^N y_i^2 \n",
    "\n",
    "\\end{align}\n",
    "$$\n",
    "\n"
   ],
   "cell_type": "markdown",
   "metadata": {}
  },
  {
   "source": [
    "## 2. Etude et résolution numériques"
   ],
   "cell_type": "markdown",
   "metadata": {}
  },
  {
   "source": [
    "#### Q5) Quelles méthodes de résolution peuvent être envisagées pour ce problème ?"
   ],
   "cell_type": "markdown",
   "metadata": {}
  },
  {
   "cell_type": "code",
   "execution_count": null,
   "metadata": {},
   "outputs": [],
   "source": []
  },
  {
   "source": [
    "#### Q6) Développer un algorithme de résolution pour les valeurs numériques suivantes : $L = 10$ ; $N = 60$ ; $K= 10$ et $\\gamma = 3$"
   ],
   "cell_type": "markdown",
   "metadata": {}
  },
  {
   "source": [
    "import casadi"
   ],
   "cell_type": "code",
   "metadata": {},
   "execution_count": 1,
   "outputs": []
  },
  {
   "cell_type": "code",
   "execution_count": null,
   "metadata": {},
   "outputs": [],
   "source": []
  }
 ]
}